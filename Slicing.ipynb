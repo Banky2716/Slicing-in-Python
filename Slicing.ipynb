{
 "cells": [
  {
   "cell_type": "markdown",
   "id": "d9396b6b-b109-469d-aec7-1346c2199aca",
   "metadata": {},
   "source": [
    "# Slicing"
   ]
  },
  {
   "cell_type": "code",
   "execution_count": 7,
   "id": "804aeada-72b8-40b9-bac6-993ae8a093bf",
   "metadata": {},
   "outputs": [
    {
     "data": {
      "text/plain": [
       "'I am a Data Scientist'"
      ]
     },
     "execution_count": 7,
     "metadata": {},
     "output_type": "execute_result"
    }
   ],
   "source": [
    "a = \"I am a Data Scientist\" #indexing start from 0 from I & we count space as well so, index of a is 2 \n",
    "a                           # \"I=0\", \"space=\"1\", \"n=3\" & so on. \n",
    "                            # \"t=-1\", \"S=-2\" & so on in case of reverse indexing"
   ]
  },
  {
   "cell_type": "code",
   "execution_count": 9,
   "id": "215757d5-2d2c-4804-9826-0b94d45e053a",
   "metadata": {},
   "outputs": [
    {
     "data": {
      "text/plain": [
       "'am'"
      ]
     },
     "execution_count": 9,
     "metadata": {},
     "output_type": "execute_result"
    }
   ],
   "source": [
    "a[2:4] # it will print a letter which is on index 2 & 3 excluding index 4"
   ]
  },
  {
   "cell_type": "code",
   "execution_count": 11,
   "id": "cd867be6-624e-4ce1-84c1-34fc573f927a",
   "metadata": {},
   "outputs": [
    {
     "data": {
      "text/plain": [
       "'Scientist'"
      ]
     },
     "execution_count": 11,
     "metadata": {},
     "output_type": "execute_result"
    }
   ],
   "source": [
    "a[-9:] # if we see index in reverse direction will start from -1\n",
    "       # so, [-9:] from -9 it will print all letter including a word at index 9"
   ]
  },
  {
   "cell_type": "code",
   "execution_count": 13,
   "id": "c5cb074c-e425-4cea-aaf4-7786d55e949d",
   "metadata": {},
   "outputs": [
    {
     "data": {
      "text/plain": [
       "'Data Scientist'"
      ]
     },
     "execution_count": 13,
     "metadata": {},
     "output_type": "execute_result"
    }
   ],
   "source": [
    "# : -> slicing operator\n",
    "a[7:] # starting from index 7(including) it will print till end"
   ]
  },
  {
   "cell_type": "code",
   "execution_count": 15,
   "id": "b59ead72-b716-48c5-8995-870441cba5e9",
   "metadata": {},
   "outputs": [
    {
     "data": {
      "text/plain": [
       "'I am a '"
      ]
     },
     "execution_count": 15,
     "metadata": {},
     "output_type": "execute_result"
    }
   ],
   "source": [
    "a[:7] # print everything excluding the letters starting from index 7"
   ]
  },
  {
   "cell_type": "markdown",
   "id": "4d5b6330-e20a-42ab-9b9a-d49b57b8b1da",
   "metadata": {},
   "source": [
    "# Practice"
   ]
  },
  {
   "cell_type": "code",
   "execution_count": 22,
   "id": "be63adb8-4b20-41e3-a5e5-a7f10aaeee81",
   "metadata": {},
   "outputs": [
    {
     "name": "stdout",
     "output_type": "stream",
     "text": [
      "[3, 4, 5, 6]\n",
      "[2, 3, 4, 5, 6, 7, 8, 9, 10]\n",
      "[1, 2, 3, 4, 5]\n",
      "[1, 3, 5, 7, 9]\n"
     ]
    }
   ],
   "source": [
    "# Slicing a list\n",
    "my_list = [1, 2, 3, 4, 5, 6, 7, 8, 9, 10]\n",
    "\n",
    "# Get a slice of the list from index 2 to index 6 (exclusive)\n",
    "slice_1 = my_list[2:6]\n",
    "print(slice_1) # Output: [3, 4, 5, 6]\n",
    "\n",
    "# Get a slice of the list from index 1 to the end\n",
    "slice_2 = my_list[1:]\n",
    "print(slice_2) # Output: [2, 3, 4, 5, 6, 7, 8, 9, 10]\n",
    "\n",
    "# Get a slice of the list from the beginning to index 5 (exclusive)\n",
    "slice_3 = my_list[:5]\n",
    "print(slice_3) # Output: [1, 2, 3, 4, 5]\n",
    "\n",
    "# Get a slice of the list with a step size of 2\n",
    "slice_4 = my_list[::2]\n",
    "print(slice_4) # Output: [1, 3, 5, 7, 9]"
   ]
  },
  {
   "cell_type": "code",
   "execution_count": 26,
   "id": "8ce56d17-58dc-4b17-bab6-0512427f056f",
   "metadata": {},
   "outputs": [
    {
     "name": "stdout",
     "output_type": "stream",
     "text": [
      "World!\n",
      "Hello\n",
      "Hlo ol!\n"
     ]
    }
   ],
   "source": [
    "# Slicing a string\n",
    "my_string = \"Hello, World!\"\n",
    "\n",
    "# Get a slice of the string from index 7 to the end\n",
    "slice_5 = my_string[7:]\n",
    "print(slice_5) # Output: \"World!\"\n",
    "\n",
    "# Get a slice of the string from the beginning to the index 5 (exclusive)\n",
    "slice_6 = my_string[:5]\n",
    "print(slice_6) # Output: \"Hello\"\n",
    "\n",
    "# Get a slice of the string with a step size of 2\n",
    "slice_7 = my_string[::2]\n",
    "print(slice_7) # Output: \"Hlo ol!\""
   ]
  },
  {
   "cell_type": "code",
   "execution_count": 28,
   "id": "09283e4d-dc44-4088-9838-0ca11b1a421e",
   "metadata": {},
   "outputs": [
    {
     "name": "stdout",
     "output_type": "stream",
     "text": [
      "[9, 10]\n",
      "[1, 2, 3, 4, 5, 6, 7]\n",
      "[10, 9, 8, 7, 6, 5, 4, 3, 2, 1]\n"
     ]
    }
   ],
   "source": [
    "# Slicing with negative indices\n",
    "my_list = [1, 2, 3, 4, 5, 6, 7, 8, 9, 10]\n",
    "\n",
    "# Get a slice of the list from the second last element to the end\n",
    "slice_8 = my_list[-2:]\n",
    "print(slice_8) # Output: [9, 10]\n",
    "\n",
    "# Get a slice of the list from the beginning to the third element (exclusive)\n",
    "slice_9 = my_list[:-3]\n",
    "print(slice_9) # Output: [1, 2, 3, 4, 5, 6, 7]\n",
    "\n",
    "# Get a slice of the list in reverse order\n",
    "slice_10 = my_list[::-1]\n",
    "print(slice_10) # Output: [10, 9, 8, 7, 6, 5, 4, 3, 2, 1]"
   ]
  }
 ],
 "metadata": {
  "kernelspec": {
   "display_name": "Python [conda env:base] *",
   "language": "python",
   "name": "conda-base-py"
  },
  "language_info": {
   "codemirror_mode": {
    "name": "ipython",
    "version": 3
   },
   "file_extension": ".py",
   "mimetype": "text/x-python",
   "name": "python",
   "nbconvert_exporter": "python",
   "pygments_lexer": "ipython3",
   "version": "3.11.5"
  }
 },
 "nbformat": 4,
 "nbformat_minor": 5
}
